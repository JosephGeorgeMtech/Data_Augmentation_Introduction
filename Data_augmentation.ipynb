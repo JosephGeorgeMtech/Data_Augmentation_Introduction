{
  "nbformat": 4,
  "nbformat_minor": 0,
  "metadata": {
    "colab": {
      "provenance": [],
      "authorship_tag": "ABX9TyMX+MVBpczkMLrY1mUzvhJ7",
      "include_colab_link": true
    },
    "kernelspec": {
      "name": "python3",
      "display_name": "Python 3"
    },
    "language_info": {
      "name": "python"
    }
  },
  "cells": [
    {
      "cell_type": "markdown",
      "metadata": {
        "id": "view-in-github",
        "colab_type": "text"
      },
      "source": [
        "<a href=\"https://colab.research.google.com/github/JosephGeorgeMtech/Data_Augmentation_Introduction/blob/main/Data_augmentation.ipynb\" target=\"_parent\"><img src=\"https://colab.research.google.com/assets/colab-badge.svg\" alt=\"Open In Colab\"/></a>"
      ]
    },
    {
      "cell_type": "markdown",
      "source": [
        "\n",
        "### Data Augmentation\n",
        "https://www.tensorflow.org/api_docs/python/tf/keras/preprocessing/image/ImageDataGenerator\n",
        "\n"
      ],
      "metadata": {
        "id": "7RMw7DyyhTo0"
      }
    },
    {
      "cell_type": "code",
      "execution_count": null,
      "metadata": {
        "id": "nWmtb_QuhLVM"
      },
      "outputs": [],
      "source": [
        "image_path='/content/cat.jpg'"
      ]
    },
    {
      "cell_type": "markdown",
      "source": [
        "### Load libraries and image data"
      ],
      "metadata": {
        "id": "xzwxkkefhwTM"
      }
    },
    {
      "cell_type": "code",
      "source": [
        "# Importing the required libraries\n",
        "from numpy import expand_dims\n",
        "\n",
        "from keras.utils import load_img\n",
        "from keras.utils import img_to_array\n",
        "\n",
        "from keras.preprocessing.image import ImageDataGenerator\n",
        "import matplotlib.pyplot as plt\n",
        "\n",
        "# Loading desired images\n",
        "img = load_img(image_path)\n",
        "\n",
        "\n",
        "# For processing, we are converting the image(s) to an array\n",
        "data = img_to_array(img)\n",
        "data.reshape(299,299)\n",
        "\n",
        "# Expanding dimension to one sample (Add the image to a batch)\n",
        "samples = expand_dims(data, 0)"
      ],
      "metadata": {
        "id": "4A4T2XJNhZ8L"
      },
      "execution_count": null,
      "outputs": []
    },
    {
      "cell_type": "code",
      "source": [
        "print(type(img))\n",
        "print(type(data))\n",
        "print(type(samples))\n",
        "print(samples.shape)"
      ],
      "metadata": {
        "id": "-SnM31RxhZ_K"
      },
      "execution_count": null,
      "outputs": []
    },
    {
      "cell_type": "markdown",
      "source": [
        "### Function to plot and save"
      ],
      "metadata": {
        "id": "535h-3Lih2HL"
      }
    },
    {
      "cell_type": "code",
      "source": [
        "def plotSave(itr, filePath='augment.png'):\n",
        "\n",
        "  # Preparing the Samples and Plot for displaying output\n",
        "  for i in range(9):\n",
        "\n",
        "    # preparing the subplot\n",
        "    plt.subplot(3,3, i+1)\n",
        "\n",
        "\n",
        "    # generating images in batches  \n",
        "    batch = itr.next()\n",
        "\n",
        "    # Remember to convert these images to unsigned integers for viewing \n",
        "    image = batch[0].astype('uint8')\n",
        "\n",
        "    # Plot and save the data\n",
        "    plt.axis('off')\n",
        "    plt.imshow(image)\n",
        "    plt.savefig(filePath, dpi=300)\n",
        "\n",
        "  plt.show()\n"
      ],
      "metadata": {
        "id": "VX5wtVO0haBt"
      },
      "execution_count": null,
      "outputs": []
    },
    {
      "cell_type": "markdown",
      "source": [
        "### Rotation\n",
        "\n",
        "https://www.tensorflow.org/api_docs/python/tf/keras/preprocessing/image/ImageDataGenerator\n"
      ],
      "metadata": {
        "id": "UQLNyXy6h7Br"
      }
    },
    {
      "cell_type": "code",
      "source": [
        "# Calling ImageDataGenerator for creating data augmentation generator.\n",
        "datagen = ImageDataGenerator(rotation_range=45)\n",
        "\n",
        "# Creating an iterator for data augmentation\n",
        "itr = datagen.flow(samples, batch_size=1)\n",
        "\n",
        "plotSave(itr, '01_Rotation.png')"
      ],
      "metadata": {
        "id": "LwzK-t9GhaEa"
      },
      "execution_count": null,
      "outputs": []
    },
    {
      "cell_type": "markdown",
      "source": [
        "### Width shift"
      ],
      "metadata": {
        "id": "zlyXO7UZiQsp"
      }
    },
    {
      "cell_type": "code",
      "source": [
        "# Calling ImageDataGenerator for creating data augmentation generator.\n",
        "datagen = ImageDataGenerator(width_shift_range=[-30,30])\n",
        "\n",
        "# Creating an iterator for data augmentation\n",
        "itr = datagen.flow(samples, batch_size=1)\n",
        "\n",
        "plotSave(itr, '02_RandomShift_Width.png')"
      ],
      "metadata": {
        "id": "nGvkPwERhaG6"
      },
      "execution_count": null,
      "outputs": []
    },
    {
      "cell_type": "markdown",
      "source": [
        "### Height shift"
      ],
      "metadata": {
        "id": "EU0Lq4u7iO17"
      }
    },
    {
      "cell_type": "code",
      "source": [
        "# Calling ImageDataGenerator for creating data augmentation generator.\n",
        "datagen = ImageDataGenerator(height_shift_range=[-50,50])\n",
        "\n",
        "# Creating an iterator for data augmentation\n",
        "itr = datagen.flow(samples, batch_size=1)\n",
        "\n",
        "plotSave(itr, '03_RandomShift_Height.png')"
      ],
      "metadata": {
        "id": "owDtn1YyhaJi"
      },
      "execution_count": null,
      "outputs": []
    },
    {
      "cell_type": "markdown",
      "source": [
        "\n",
        "## Random Flipping\n",
        "### Horizontal flip"
      ],
      "metadata": {
        "id": "RStlVoq-iE7L"
      }
    },
    {
      "cell_type": "code",
      "source": [
        "# Calling ImageDataGenerator for creating data augmentation generator.\n",
        "datagen = ImageDataGenerator(horizontal_flip=True)\n",
        "\n",
        "# Creating an iterator for data augmentation\n",
        "itr = datagen.flow(samples, batch_size=1)\n",
        "\n",
        "plotSave(itr, '04_Flip_Horizontal.png')"
      ],
      "metadata": {
        "id": "-HzS_-AYhaMY"
      },
      "execution_count": null,
      "outputs": []
    },
    {
      "cell_type": "markdown",
      "source": [
        "### Vertical flip"
      ],
      "metadata": {
        "id": "5lW5mnU3iCb7"
      }
    },
    {
      "cell_type": "code",
      "source": [
        "# Calling ImageDataGenerator for creating data augmentation generator.\n",
        "datagen = ImageDataGenerator(vertical_flip=True)\n",
        "\n",
        "# Creating an iterator for data augmentation\n",
        "itr = datagen.flow(samples, batch_size=1)\n",
        "\n",
        "plotSave(itr, '05_Flip_Vertical.png')"
      ],
      "metadata": {
        "id": "pzRX8T_4haOx"
      },
      "execution_count": null,
      "outputs": []
    }
  ]
}